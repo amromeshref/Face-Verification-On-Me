{
 "cells": [
  {
   "cell_type": "markdown",
   "id": "7657c259",
   "metadata": {},
   "source": [
    "#### General Steps to Follow\n",
    "\n",
    "1. Importing Packages\n",
    "2. Loading the model\n",
    "3. Collecting verification images\n",
    "4. Preprocessing the input image\n",
    "5. Defining a verification function\n",
    "6. Getting the input and verify"
   ]
  },
  {
   "cell_type": "markdown",
   "id": "2695a772",
   "metadata": {},
   "source": [
    "## 1) Importing Packages"
   ]
  },
  {
   "cell_type": "code",
   "execution_count": 7,
   "id": "2b8abc53",
   "metadata": {},
   "outputs": [],
   "source": [
    "import numpy as np\n",
    "import os\n",
    "import cv2\n",
    "import matplotlib.pyplot as plt\n",
    "import tensorflow as tf\n",
    "from tensorflow.keras.layers import Layer"
   ]
  },
  {
   "cell_type": "markdown",
   "id": "40f6ac4a",
   "metadata": {},
   "source": [
    "### ----------------------------------------------------------------------------------------------------------------------------------------------------------"
   ]
  },
  {
   "cell_type": "markdown",
   "id": "cb0d2b7e",
   "metadata": {},
   "source": [
    "## 2) Loading the model"
   ]
  },
  {
   "cell_type": "markdown",
   "id": "951f7935",
   "metadata": {},
   "source": [
    "#### The distance layer"
   ]
  },
  {
   "cell_type": "code",
   "execution_count": 8,
   "id": "3ab7f172",
   "metadata": {},
   "outputs": [],
   "source": [
    "class L1Dist(Layer):\n",
    "    def __init__(self, **kwargs):\n",
    "        super(L1Dist, self).__init__(**kwargs)\n",
    "\n",
    "    def call(self, anchor, validation):\n",
    "        return tf.abs(anchor - validation)"
   ]
  },
  {
   "cell_type": "code",
   "execution_count": 9,
   "id": "fe2d98c7",
   "metadata": {},
   "outputs": [],
   "source": [
    "siamese_model = tf.keras.models.load_model('../my data/siamese_model.h5', \n",
    "                                   custom_objects={'L1Dist':L1Dist, 'BinaryCrossentropy':tf.losses.BinaryCrossentropy})"
   ]
  },
  {
   "cell_type": "markdown",
   "id": "9b3baff8",
   "metadata": {},
   "source": [
    "### ----------------------------------------------------------------------------------------------------------------------------------------------------------"
   ]
  },
  {
   "cell_type": "markdown",
   "id": "9bac0c09",
   "metadata": {},
   "source": [
    "## 3) Collecting verification images"
   ]
  },
  {
   "cell_type": "markdown",
   "id": "9506ebda",
   "metadata": {},
   "source": [
    "#### Setup Paths"
   ]
  },
  {
   "cell_type": "code",
   "execution_count": 10,
   "id": "1b2ec366",
   "metadata": {},
   "outputs": [],
   "source": [
    "inp_img_path = \"../my data/input_image\" # Path for the input image that will be used in verification\n",
    "ver_path = \"../my data/verification\"   # Path for some anchor images will be used to verify the input images"
   ]
  },
  {
   "cell_type": "markdown",
   "id": "1faafec6",
   "metadata": {},
   "source": [
    "#### Collecting the verification images"
   ]
  },
  {
   "cell_type": "code",
   "execution_count": 11,
   "id": "2cce9dc3",
   "metadata": {},
   "outputs": [
    {
     "name": "stdout",
     "output_type": "stream",
     "text": [
      "Shape of verification images is: (73, 250, 250, 3)\n"
     ]
    }
   ],
   "source": [
    "ver_images = []\n",
    "for img_name in os.listdir(ver_path):\n",
    "    path = ver_path + \"/\" + img_name\n",
    "    image = plt.imread(path)\n",
    "    ver_images.append(image)\n",
    "ver_images = np.array(ver_images)\n",
    "\n",
    "print(\"Shape of verification images is:\", ver_images.shape)"
   ]
  },
  {
   "cell_type": "markdown",
   "id": "64b560f1",
   "metadata": {},
   "source": [
    "#### Normalizing the verification images"
   ]
  },
  {
   "cell_type": "code",
   "execution_count": 12,
   "id": "765f5f1e",
   "metadata": {},
   "outputs": [],
   "source": [
    "ver_images = ver_images/ [255]"
   ]
  },
  {
   "cell_type": "markdown",
   "id": "d1ff8682",
   "metadata": {},
   "source": [
    "#### Resizing the verification images to (105,105,3)"
   ]
  },
  {
   "cell_type": "code",
   "execution_count": 13,
   "id": "e83c6b2b",
   "metadata": {},
   "outputs": [
    {
     "name": "stdout",
     "output_type": "stream",
     "text": [
      "Shape of the resized verification images is: (73, 1, 105, 105, 3)\n"
     ]
    }
   ],
   "source": [
    "temp = []\n",
    "for i in range(ver_images.shape[0]):\n",
    "    img = ver_images[i]\n",
    "    img = tf.image.resize(img,(105,105))\n",
    "    img = img.numpy()\n",
    "    temp.append(img)\n",
    "temp = np.array(temp)\n",
    "temp = temp.reshape((73,1,105,105,3))\n",
    "ver_images = temp\n",
    "\n",
    "print(\"Shape of the resized verification images is:\", ver_images.shape)"
   ]
  },
  {
   "cell_type": "code",
   "execution_count": null,
   "id": "707e11cb",
   "metadata": {},
   "outputs": [],
   "source": []
  },
  {
   "cell_type": "markdown",
   "id": "17296bb4",
   "metadata": {},
   "source": [
    "### ----------------------------------------------------------------------------------------------------------------------------------------------------------"
   ]
  },
  {
   "cell_type": "markdown",
   "id": "fd878fc8",
   "metadata": {},
   "source": [
    "## 4) Preprocessing the input image"
   ]
  },
  {
   "cell_type": "code",
   "execution_count": 14,
   "id": "fc945d99",
   "metadata": {},
   "outputs": [],
   "source": [
    "def image_transformation(img):\n",
    "    # Normalizing the image\n",
    "    img = img/255\n",
    "    # resizing the image to (105, 105, 3)\n",
    "    img = tf.image.resize(img,(105,105))\n",
    "    img = img.numpy()\n",
    "    img = img.reshape((1,105,105,3))\n",
    "    \n",
    "    return img"
   ]
  },
  {
   "cell_type": "markdown",
   "id": "1d70246a",
   "metadata": {},
   "source": [
    "### ----------------------------------------------------------------------------------------------------------------------------------------------------------"
   ]
  },
  {
   "cell_type": "markdown",
   "id": "cc3ff3e0",
   "metadata": {},
   "source": [
    "## 5) Defining a verification function"
   ]
  },
  {
   "cell_type": "code",
   "execution_count": 15,
   "id": "086f314a",
   "metadata": {},
   "outputs": [],
   "source": [
    "def verify(input_image):\n",
    "    print(\"\\nNumber of images will be used in verification is:\", ver_images.shape[0])\n",
    "    print(\"\\n\")\n",
    "    \n",
    "    result = []\n",
    "    i = 1\n",
    "    for ver in ver_images:\n",
    "        print(\"Verification Image #\", i); i+=1\n",
    "        y_hat = siamese_model.predict([ver,input_image])\n",
    "        if(y_hat[0,0] >= 0.5):\n",
    "            y_hat[0,0] = 1\n",
    "        else:\n",
    "            y_hat[0,0] = 0\n",
    "        result.append(y_hat[0,0])\n",
    "    \n",
    "    m = ver_images.shape[0]\n",
    "    result = np.array(result)\n",
    "    accuracy = 100*(np.sum(result == 1)/m)\n",
    "    \n",
    "    print(\"\\nOutput:\")\n",
    "    print(\"Accuracy =\", accuracy)\n",
    "    if(accuracy > 60):\n",
    "        print(\"Verified, Welcome Amro!\")\n",
    "    else:\n",
    "        print(\"Not Recognized\")"
   ]
  },
  {
   "cell_type": "markdown",
   "id": "0b1de251",
   "metadata": {},
   "source": [
    "### ----------------------------------------------------------------------------------------------------------------------------------------------------------"
   ]
  },
  {
   "cell_type": "markdown",
   "id": "617f3fab",
   "metadata": {},
   "source": [
    "## 6) Getting the input and verify"
   ]
  },
  {
   "cell_type": "code",
   "execution_count": 16,
   "id": "f7962186",
   "metadata": {},
   "outputs": [
    {
     "name": "stderr",
     "output_type": "stream",
     "text": [
      "Warning: Ignoring XDG_SESSION_TYPE=wayland on Gnome. Use QT_QPA_PLATFORM=wayland to run on Wayland anyway.\n"
     ]
    },
    {
     "name": "stdout",
     "output_type": "stream",
     "text": [
      "\n",
      "Number of images will be used in verification is: 73\n",
      "\n",
      "\n",
      "Verification Image # 1\n",
      "1/1 [==============================] - 1s 814ms/step\n",
      "Verification Image # 2\n",
      "1/1 [==============================] - 0s 190ms/step\n",
      "Verification Image # 3\n",
      "1/1 [==============================] - 0s 216ms/step\n",
      "Verification Image # 4\n",
      "1/1 [==============================] - 0s 157ms/step\n",
      "Verification Image # 5\n",
      "1/1 [==============================] - 0s 174ms/step\n",
      "Verification Image # 6\n",
      "1/1 [==============================] - 0s 199ms/step\n",
      "Verification Image # 7\n",
      "1/1 [==============================] - 0s 156ms/step\n",
      "Verification Image # 8\n",
      "1/1 [==============================] - 0s 171ms/step\n",
      "Verification Image # 9\n",
      "1/1 [==============================] - 0s 191ms/step\n",
      "Verification Image # 10\n",
      "1/1 [==============================] - 0s 167ms/step\n",
      "Verification Image # 11\n",
      "1/1 [==============================] - 0s 199ms/step\n",
      "Verification Image # 12\n",
      "1/1 [==============================] - 0s 159ms/step\n",
      "Verification Image # 13\n",
      "1/1 [==============================] - 0s 164ms/step\n",
      "Verification Image # 14\n",
      "1/1 [==============================] - 0s 160ms/step\n",
      "Verification Image # 15\n",
      "1/1 [==============================] - 0s 183ms/step\n",
      "Verification Image # 16\n",
      "1/1 [==============================] - 0s 191ms/step\n",
      "Verification Image # 17\n",
      "1/1 [==============================] - 0s 202ms/step\n",
      "Verification Image # 18\n",
      "1/1 [==============================] - 0s 201ms/step\n",
      "Verification Image # 19\n",
      "1/1 [==============================] - 0s 179ms/step\n",
      "Verification Image # 20\n",
      "1/1 [==============================] - 0s 168ms/step\n",
      "Verification Image # 21\n",
      "1/1 [==============================] - 0s 197ms/step\n",
      "Verification Image # 22\n",
      "1/1 [==============================] - 0s 182ms/step\n",
      "Verification Image # 23\n",
      "1/1 [==============================] - 0s 193ms/step\n",
      "Verification Image # 24\n",
      "1/1 [==============================] - 0s 162ms/step\n",
      "Verification Image # 25\n",
      "1/1 [==============================] - 0s 217ms/step\n",
      "Verification Image # 26\n",
      "1/1 [==============================] - 0s 185ms/step\n",
      "Verification Image # 27\n",
      "1/1 [==============================] - 0s 166ms/step\n",
      "Verification Image # 28\n",
      "1/1 [==============================] - 0s 169ms/step\n",
      "Verification Image # 29\n",
      "1/1 [==============================] - 0s 146ms/step\n",
      "Verification Image # 30\n",
      "1/1 [==============================] - 0s 155ms/step\n",
      "Verification Image # 31\n",
      "1/1 [==============================] - 0s 151ms/step\n",
      "Verification Image # 32\n",
      "1/1 [==============================] - 0s 200ms/step\n",
      "Verification Image # 33\n",
      "1/1 [==============================] - 0s 193ms/step\n",
      "Verification Image # 34\n",
      "1/1 [==============================] - 0s 199ms/step\n",
      "Verification Image # 35\n",
      "1/1 [==============================] - 0s 207ms/step\n",
      "Verification Image # 36\n",
      "1/1 [==============================] - 0s 174ms/step\n",
      "Verification Image # 37\n",
      "1/1 [==============================] - 0s 201ms/step\n",
      "Verification Image # 38\n",
      "1/1 [==============================] - 0s 194ms/step\n",
      "Verification Image # 39\n",
      "1/1 [==============================] - 0s 199ms/step\n",
      "Verification Image # 40\n",
      "1/1 [==============================] - 0s 170ms/step\n",
      "Verification Image # 41\n",
      "1/1 [==============================] - 0s 192ms/step\n",
      "Verification Image # 42\n",
      "1/1 [==============================] - 0s 147ms/step\n",
      "Verification Image # 43\n",
      "1/1 [==============================] - 0s 172ms/step\n",
      "Verification Image # 44\n",
      "1/1 [==============================] - 0s 178ms/step\n",
      "Verification Image # 45\n",
      "1/1 [==============================] - 0s 182ms/step\n",
      "Verification Image # 46\n",
      "1/1 [==============================] - 0s 185ms/step\n",
      "Verification Image # 47\n",
      "1/1 [==============================] - 0s 219ms/step\n",
      "Verification Image # 48\n",
      "1/1 [==============================] - 0s 185ms/step\n",
      "Verification Image # 49\n",
      "1/1 [==============================] - 0s 166ms/step\n",
      "Verification Image # 50\n",
      "1/1 [==============================] - 0s 169ms/step\n",
      "Verification Image # 51\n",
      "1/1 [==============================] - 0s 148ms/step\n",
      "Verification Image # 52\n",
      "1/1 [==============================] - 0s 177ms/step\n",
      "Verification Image # 53\n",
      "1/1 [==============================] - 0s 174ms/step\n",
      "Verification Image # 54\n",
      "1/1 [==============================] - 0s 198ms/step\n",
      "Verification Image # 55\n",
      "1/1 [==============================] - 0s 199ms/step\n",
      "Verification Image # 56\n",
      "1/1 [==============================] - 0s 181ms/step\n",
      "Verification Image # 57\n",
      "1/1 [==============================] - 0s 148ms/step\n",
      "Verification Image # 58\n",
      "1/1 [==============================] - 0s 156ms/step\n",
      "Verification Image # 59\n",
      "1/1 [==============================] - 0s 170ms/step\n",
      "Verification Image # 60\n",
      "1/1 [==============================] - 0s 187ms/step\n",
      "Verification Image # 61\n",
      "1/1 [==============================] - 0s 184ms/step\n",
      "Verification Image # 62\n",
      "1/1 [==============================] - 0s 190ms/step\n",
      "Verification Image # 63\n",
      "1/1 [==============================] - 0s 211ms/step\n",
      "Verification Image # 64\n",
      "1/1 [==============================] - 0s 173ms/step\n",
      "Verification Image # 65\n",
      "1/1 [==============================] - 0s 171ms/step\n",
      "Verification Image # 66\n",
      "1/1 [==============================] - 0s 163ms/step\n",
      "Verification Image # 67\n",
      "1/1 [==============================] - 0s 192ms/step\n",
      "Verification Image # 68\n",
      "1/1 [==============================] - 0s 204ms/step\n",
      "Verification Image # 69\n",
      "1/1 [==============================] - 0s 210ms/step\n",
      "Verification Image # 70\n",
      "1/1 [==============================] - 0s 146ms/step\n",
      "Verification Image # 71\n",
      "1/1 [==============================] - 0s 163ms/step\n",
      "Verification Image # 72\n",
      "1/1 [==============================] - 0s 151ms/step\n",
      "Verification Image # 73\n",
      "1/1 [==============================] - 0s 148ms/step\n",
      "\n",
      "Output:\n",
      "Accuracy = 97.26027397260275\n",
      "Verified, Welcome Amro!\n"
     ]
    }
   ],
   "source": [
    "# Establish a connection to the webcam\n",
    "cap = cv2.VideoCapture(0)\n",
    "while cap.isOpened(): \n",
    "    ret, frame = cap.read()\n",
    "   \n",
    "    # Cut down frame to 250x250px\n",
    "    frame = frame[120:120+250,200:200+250, :]\n",
    "    input_image = frame.copy()\n",
    "    \n",
    "    # Show image back to screen\n",
    "    cv2.imshow('Verification Image', frame)\n",
    "    \n",
    "    # Normalizing and resizing the image\n",
    "    input_image = image_transformation(input_image)\n",
    "\n",
    "    \n",
    "    if cv2.waitKey(1) & 0XFF == ord('a'): \n",
    "        imgname = inp_img_path + \"/\" + \"input_image.jpg\"\n",
    "\n",
    "        # Write out input image\n",
    "        cv2.imwrite(imgname, frame)\n",
    "                \n",
    "        # Verification\n",
    "        verify(input_image)\n",
    "    # Breaking gracefully\n",
    "    if cv2.waitKey(1) & 0XFF == ord('q'):\n",
    "        break\n",
    "        \n",
    "# Release the webcam\n",
    "cap.release()\n",
    "# Close the image show frame\n",
    "cv2.destroyAllWindows()"
   ]
  },
  {
   "cell_type": "code",
   "execution_count": null,
   "id": "d61bcc0b",
   "metadata": {},
   "outputs": [],
   "source": []
  }
 ],
 "metadata": {
  "kernelspec": {
   "display_name": "Python 3 (ipykernel)",
   "language": "python",
   "name": "python3"
  },
  "language_info": {
   "codemirror_mode": {
    "name": "ipython",
    "version": 3
   },
   "file_extension": ".py",
   "mimetype": "text/x-python",
   "name": "python",
   "nbconvert_exporter": "python",
   "pygments_lexer": "ipython3",
   "version": "3.10.12"
  }
 },
 "nbformat": 4,
 "nbformat_minor": 5
}
